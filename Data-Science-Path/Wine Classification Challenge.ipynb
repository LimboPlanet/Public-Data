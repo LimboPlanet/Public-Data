{
 "cells": [
  {
   "cell_type": "markdown",
   "id": "e9e857ea",
   "metadata": {},
   "source": [
    "# Classification Challenge\n",
    "\n",
    "Wine experts can identify wines from specific vineyards through smell and taste, but the factors that give different wines their individual charateristics are actually based on their chemical composition.\n",
    "\n",
    "In this challenge, you must train a classification model to analyze the chemical and visual features of wine samples and classify them based on their cultivar (grape variety).\n",
    "\n",
    "> **Citation**: The data used in this exercise was originally collected by Forina, M. et al.\n",
    ">\n",
    "> PARVUS - An Extendible Package for Data Exploration, Classification and Correlation.\n",
    "Institute of Pharmaceutical and Food Analysis and Technologies, Via Brigata Salerno,\n",
    "16147 Genoa, Italy.\n",
    ">\n",
    "> It can be downloaded from the UCI dataset repository (Dua, D. and Graff, C. (2019). [UCI Machine Learning Repository]([http://archive.ics.uci.edu/ml). Irvine, CA: University of California, School of Information and Computer Science). "
   ]
  },
  {
   "cell_type": "markdown",
   "id": "bb1a6c40",
   "metadata": {},
   "source": [
    "## Explore the data\n",
    "\n",
    "Run the following cell to load a CSV file of wine data, which consists of 12 numeric features and a classification label with the following classes:\n",
    "\n",
    "- **1** (*variety A*)\n",
    "- **2** (*variety B*)\n",
    "- **3** (*variety C*)"
   ]
  },
  {
   "cell_type": "code",
   "execution_count": 1,
   "id": "ef2a9463",
   "metadata": {},
   "outputs": [
    {
     "name": "stdout",
     "output_type": "stream",
     "text": [
      "(178, 14)\n",
      "   Identifier  Alcohol  Malic Acid   Ash  Alcalinity of ash  Magnesium  \\\n",
      "0           1    14.23        1.71  2.43               15.6        127   \n",
      "1           1    13.20        1.78  2.14               11.2        100   \n",
      "2           1    13.16        2.36  2.67               18.6        101   \n",
      "3           1    14.37        1.95  2.50               16.8        113   \n",
      "4           1    13.24        2.59  2.87               21.0        118   \n",
      "\n",
      "   Total phenols  Flavanoids  Nonflavanoid phenols  Proanthocyanins  \\\n",
      "0           2.80        3.06                  0.28             2.29   \n",
      "1           2.65        2.76                  0.26             1.28   \n",
      "2           2.80        3.24                  0.30             2.81   \n",
      "3           3.85        3.49                  0.24             2.18   \n",
      "4           2.80        2.69                  0.39             1.82   \n",
      "\n",
      "   Color intensity   Hue  OD280/OD315 of diluted wines  Proline  \n",
      "0             5.64  1.04                          3.92     1065  \n",
      "1             4.38  1.05                          3.40     1050  \n",
      "2             5.68  1.03                          3.17     1185  \n",
      "3             7.80  0.86                          3.45     1480  \n",
      "4             4.32  1.04                          2.93      735  \n"
     ]
    }
   ],
   "source": [
    "# Load wine dataset\n",
    "import pandas as pd\n",
    "wine = pd.read_csv('winedata.csv', names=[\"Identifier\", \n",
    "                                          \"Alcohol\", \n",
    "                                          \"Malic Acid\", \n",
    "                                          \"Ash\", \n",
    "                                          \"Alcalinity of ash\", \n",
    "                                          \"Magnesium\", \n",
    "                                          \"Total phenols\", \n",
    "                                          \"Flavanoids\", \n",
    "                                          \"Nonflavanoid phenols\", \n",
    "                                          \"Proanthocyanins\", \n",
    "                                          \"Color intensity\", \n",
    "                                          \"Hue\", \n",
    "                                          \"OD280/OD315 of diluted wines\", \n",
    "                                          \"Proline\"])\n",
    "# Look at the structure of the table...\n",
    "print(wine.shape)\n",
    "print(wine.head())"
   ]
  },
  {
   "cell_type": "markdown",
   "id": "6e95d302",
   "metadata": {},
   "source": [
    "We can see that the dataset consists of 13 continuous features with 1 classification label: Identifier\n",
    "\n",
    "Let us now match up the varieties (A, B, and C)."
   ]
  },
  {
   "cell_type": "code",
   "execution_count": 2,
   "id": "19097634",
   "metadata": {},
   "outputs": [
    {
     "data": {
      "text/html": [
       "<div>\n",
       "<style scoped>\n",
       "    .dataframe tbody tr th:only-of-type {\n",
       "        vertical-align: middle;\n",
       "    }\n",
       "\n",
       "    .dataframe tbody tr th {\n",
       "        vertical-align: top;\n",
       "    }\n",
       "\n",
       "    .dataframe thead th {\n",
       "        text-align: right;\n",
       "    }\n",
       "</style>\n",
       "<table border=\"1\" class=\"dataframe\">\n",
       "  <thead>\n",
       "    <tr style=\"text-align: right;\">\n",
       "      <th></th>\n",
       "      <th>Identifier</th>\n",
       "      <th>Alcohol</th>\n",
       "      <th>Malic Acid</th>\n",
       "      <th>Ash</th>\n",
       "      <th>Alcalinity of ash</th>\n",
       "      <th>Magnesium</th>\n",
       "      <th>Total phenols</th>\n",
       "      <th>Flavanoids</th>\n",
       "      <th>Nonflavanoid phenols</th>\n",
       "      <th>Proanthocyanins</th>\n",
       "      <th>Color intensity</th>\n",
       "      <th>Hue</th>\n",
       "      <th>OD280/OD315 of diluted wines</th>\n",
       "      <th>Proline</th>\n",
       "      <th>NewIdentifier</th>\n",
       "    </tr>\n",
       "  </thead>\n",
       "  <tbody>\n",
       "    <tr>\n",
       "      <th>131</th>\n",
       "      <td>3</td>\n",
       "      <td>12.88</td>\n",
       "      <td>2.99</td>\n",
       "      <td>2.40</td>\n",
       "      <td>20.0</td>\n",
       "      <td>104</td>\n",
       "      <td>1.30</td>\n",
       "      <td>1.22</td>\n",
       "      <td>0.24</td>\n",
       "      <td>0.83</td>\n",
       "      <td>5.40</td>\n",
       "      <td>0.74</td>\n",
       "      <td>1.42</td>\n",
       "      <td>530</td>\n",
       "      <td>2</td>\n",
       "    </tr>\n",
       "    <tr>\n",
       "      <th>27</th>\n",
       "      <td>1</td>\n",
       "      <td>13.30</td>\n",
       "      <td>1.72</td>\n",
       "      <td>2.14</td>\n",
       "      <td>17.0</td>\n",
       "      <td>94</td>\n",
       "      <td>2.40</td>\n",
       "      <td>2.19</td>\n",
       "      <td>0.27</td>\n",
       "      <td>1.35</td>\n",
       "      <td>3.95</td>\n",
       "      <td>1.02</td>\n",
       "      <td>2.77</td>\n",
       "      <td>1285</td>\n",
       "      <td>0</td>\n",
       "    </tr>\n",
       "    <tr>\n",
       "      <th>168</th>\n",
       "      <td>3</td>\n",
       "      <td>13.58</td>\n",
       "      <td>2.58</td>\n",
       "      <td>2.69</td>\n",
       "      <td>24.5</td>\n",
       "      <td>105</td>\n",
       "      <td>1.55</td>\n",
       "      <td>0.84</td>\n",
       "      <td>0.39</td>\n",
       "      <td>1.54</td>\n",
       "      <td>8.66</td>\n",
       "      <td>0.74</td>\n",
       "      <td>1.80</td>\n",
       "      <td>750</td>\n",
       "      <td>2</td>\n",
       "    </tr>\n",
       "    <tr>\n",
       "      <th>149</th>\n",
       "      <td>3</td>\n",
       "      <td>13.08</td>\n",
       "      <td>3.90</td>\n",
       "      <td>2.36</td>\n",
       "      <td>21.5</td>\n",
       "      <td>113</td>\n",
       "      <td>1.41</td>\n",
       "      <td>1.39</td>\n",
       "      <td>0.34</td>\n",
       "      <td>1.14</td>\n",
       "      <td>9.40</td>\n",
       "      <td>0.57</td>\n",
       "      <td>1.33</td>\n",
       "      <td>550</td>\n",
       "      <td>2</td>\n",
       "    </tr>\n",
       "    <tr>\n",
       "      <th>66</th>\n",
       "      <td>2</td>\n",
       "      <td>13.11</td>\n",
       "      <td>1.01</td>\n",
       "      <td>1.70</td>\n",
       "      <td>15.0</td>\n",
       "      <td>78</td>\n",
       "      <td>2.98</td>\n",
       "      <td>3.18</td>\n",
       "      <td>0.26</td>\n",
       "      <td>2.28</td>\n",
       "      <td>5.30</td>\n",
       "      <td>1.12</td>\n",
       "      <td>3.18</td>\n",
       "      <td>502</td>\n",
       "      <td>1</td>\n",
       "    </tr>\n",
       "    <tr>\n",
       "      <th>34</th>\n",
       "      <td>1</td>\n",
       "      <td>13.51</td>\n",
       "      <td>1.80</td>\n",
       "      <td>2.65</td>\n",
       "      <td>19.0</td>\n",
       "      <td>110</td>\n",
       "      <td>2.35</td>\n",
       "      <td>2.53</td>\n",
       "      <td>0.29</td>\n",
       "      <td>1.54</td>\n",
       "      <td>4.20</td>\n",
       "      <td>1.10</td>\n",
       "      <td>2.87</td>\n",
       "      <td>1095</td>\n",
       "      <td>0</td>\n",
       "    </tr>\n",
       "    <tr>\n",
       "      <th>83</th>\n",
       "      <td>2</td>\n",
       "      <td>13.05</td>\n",
       "      <td>3.86</td>\n",
       "      <td>2.32</td>\n",
       "      <td>22.5</td>\n",
       "      <td>85</td>\n",
       "      <td>1.65</td>\n",
       "      <td>1.59</td>\n",
       "      <td>0.61</td>\n",
       "      <td>1.62</td>\n",
       "      <td>4.80</td>\n",
       "      <td>0.84</td>\n",
       "      <td>2.01</td>\n",
       "      <td>515</td>\n",
       "      <td>1</td>\n",
       "    </tr>\n",
       "    <tr>\n",
       "      <th>80</th>\n",
       "      <td>2</td>\n",
       "      <td>12.00</td>\n",
       "      <td>0.92</td>\n",
       "      <td>2.00</td>\n",
       "      <td>19.0</td>\n",
       "      <td>86</td>\n",
       "      <td>2.42</td>\n",
       "      <td>2.26</td>\n",
       "      <td>0.30</td>\n",
       "      <td>1.43</td>\n",
       "      <td>2.50</td>\n",
       "      <td>1.38</td>\n",
       "      <td>3.12</td>\n",
       "      <td>278</td>\n",
       "      <td>1</td>\n",
       "    </tr>\n",
       "    <tr>\n",
       "      <th>21</th>\n",
       "      <td>1</td>\n",
       "      <td>12.93</td>\n",
       "      <td>3.80</td>\n",
       "      <td>2.65</td>\n",
       "      <td>18.6</td>\n",
       "      <td>102</td>\n",
       "      <td>2.41</td>\n",
       "      <td>2.41</td>\n",
       "      <td>0.25</td>\n",
       "      <td>1.98</td>\n",
       "      <td>4.50</td>\n",
       "      <td>1.03</td>\n",
       "      <td>3.52</td>\n",
       "      <td>770</td>\n",
       "      <td>0</td>\n",
       "    </tr>\n",
       "    <tr>\n",
       "      <th>45</th>\n",
       "      <td>1</td>\n",
       "      <td>14.21</td>\n",
       "      <td>4.04</td>\n",
       "      <td>2.44</td>\n",
       "      <td>18.9</td>\n",
       "      <td>111</td>\n",
       "      <td>2.85</td>\n",
       "      <td>2.65</td>\n",
       "      <td>0.30</td>\n",
       "      <td>1.25</td>\n",
       "      <td>5.24</td>\n",
       "      <td>0.87</td>\n",
       "      <td>3.33</td>\n",
       "      <td>1080</td>\n",
       "      <td>0</td>\n",
       "    </tr>\n",
       "  </tbody>\n",
       "</table>\n",
       "</div>"
      ],
      "text/plain": [
       "     Identifier  Alcohol  Malic Acid   Ash  Alcalinity of ash  Magnesium  \\\n",
       "131           3    12.88        2.99  2.40               20.0        104   \n",
       "27            1    13.30        1.72  2.14               17.0         94   \n",
       "168           3    13.58        2.58  2.69               24.5        105   \n",
       "149           3    13.08        3.90  2.36               21.5        113   \n",
       "66            2    13.11        1.01  1.70               15.0         78   \n",
       "34            1    13.51        1.80  2.65               19.0        110   \n",
       "83            2    13.05        3.86  2.32               22.5         85   \n",
       "80            2    12.00        0.92  2.00               19.0         86   \n",
       "21            1    12.93        3.80  2.65               18.6        102   \n",
       "45            1    14.21        4.04  2.44               18.9        111   \n",
       "\n",
       "     Total phenols  Flavanoids  Nonflavanoid phenols  Proanthocyanins  \\\n",
       "131           1.30        1.22                  0.24             0.83   \n",
       "27            2.40        2.19                  0.27             1.35   \n",
       "168           1.55        0.84                  0.39             1.54   \n",
       "149           1.41        1.39                  0.34             1.14   \n",
       "66            2.98        3.18                  0.26             2.28   \n",
       "34            2.35        2.53                  0.29             1.54   \n",
       "83            1.65        1.59                  0.61             1.62   \n",
       "80            2.42        2.26                  0.30             1.43   \n",
       "21            2.41        2.41                  0.25             1.98   \n",
       "45            2.85        2.65                  0.30             1.25   \n",
       "\n",
       "     Color intensity   Hue  OD280/OD315 of diluted wines  Proline  \\\n",
       "131             5.40  0.74                          1.42      530   \n",
       "27              3.95  1.02                          2.77     1285   \n",
       "168             8.66  0.74                          1.80      750   \n",
       "149             9.40  0.57                          1.33      550   \n",
       "66              5.30  1.12                          3.18      502   \n",
       "34              4.20  1.10                          2.87     1095   \n",
       "83              4.80  0.84                          2.01      515   \n",
       "80              2.50  1.38                          3.12      278   \n",
       "21              4.50  1.03                          3.52      770   \n",
       "45              5.24  0.87                          3.33     1080   \n",
       "\n",
       "     NewIdentifier  \n",
       "131              2  \n",
       "27               0  \n",
       "168              2  \n",
       "149              2  \n",
       "66               1  \n",
       "34               0  \n",
       "83               1  \n",
       "80               1  \n",
       "21               0  \n",
       "45               0  "
      ]
     },
     "execution_count": 2,
     "metadata": {},
     "output_type": "execute_result"
    }
   ],
   "source": [
    "# Adjust the identifier to read from 0 to 2 to aid in array manipulation and model processing for the future:\n",
    "wine['NewIdentifier'] = wine.Identifier-1\n",
    "\n",
    "# Preview data:\n",
    "sample = wine.sample(10)\n",
    "sample"
   ]
  },
  {
   "cell_type": "code",
   "execution_count": 3,
   "id": "1410d60b",
   "metadata": {},
   "outputs": [
    {
     "name": "stdout",
     "output_type": "stream",
     "text": [
      "NewIdentifier WineVariety\n",
      "[ 0 ] Variety A\n",
      "[ 2 ] Variety C\n",
      "[ 0 ] Variety A\n",
      "[ 0 ] Variety A\n",
      "[ 0 ] Variety A\n",
      "[ 1 ] Variety B\n",
      "[ 2 ] Variety C\n",
      "[ 1 ] Variety B\n",
      "[ 0 ] Variety A\n",
      "[ 0 ] Variety A\n"
     ]
    }
   ],
   "source": [
    "# Match the NewIdentifier to the Variety, indicating easier array manipulation in the dataset has been implemented.\n",
    "wine_classes = [\"Variety A\", \"Variety B\", \"Variety C\"]\n",
    "print(sample.columns[14], 'WineVariety')\n",
    "for index, row in wine.sample(10).iterrows():\n",
    "    print('[',int(row[14]),']',wine_classes[int(row[14])])"
   ]
  },
  {
   "cell_type": "markdown",
   "id": "0751b9ea",
   "metadata": {},
   "source": [
    "Above we can see that our new identifier matches up with a specific type of wine: varities of A, B, and C, where identity 0 is A, 1 is B, and 2 is C.\n",
    "\n",
    "Let us further check over the dataset to see if there are any missing values before finalizing the dataset:"
   ]
  },
  {
   "cell_type": "code",
   "execution_count": 4,
   "id": "2a3bf448",
   "metadata": {},
   "outputs": [
    {
     "data": {
      "text/plain": [
       "Identifier                      0\n",
       "Alcohol                         0\n",
       "Malic Acid                      0\n",
       "Ash                             0\n",
       "Alcalinity of ash               0\n",
       "Magnesium                       0\n",
       "Total phenols                   0\n",
       "Flavanoids                      0\n",
       "Nonflavanoid phenols            0\n",
       "Proanthocyanins                 0\n",
       "Color intensity                 0\n",
       "Hue                             0\n",
       "OD280/OD315 of diluted wines    0\n",
       "Proline                         0\n",
       "NewIdentifier                   0\n",
       "dtype: int64"
      ]
     },
     "execution_count": 4,
     "metadata": {},
     "output_type": "execute_result"
    }
   ],
   "source": [
    "wine.isnull().sum()"
   ]
  },
  {
   "cell_type": "markdown",
   "id": "d9d32916",
   "metadata": {},
   "source": [
    "Above we see that there are no missing values in our dataset, so we can continue on and finalize our dataset."
   ]
  },
  {
   "cell_type": "code",
   "execution_count": 5,
   "id": "fa30b359",
   "metadata": {},
   "outputs": [
    {
     "data": {
      "text/html": [
       "<div>\n",
       "<style scoped>\n",
       "    .dataframe tbody tr th:only-of-type {\n",
       "        vertical-align: middle;\n",
       "    }\n",
       "\n",
       "    .dataframe tbody tr th {\n",
       "        vertical-align: top;\n",
       "    }\n",
       "\n",
       "    .dataframe thead th {\n",
       "        text-align: right;\n",
       "    }\n",
       "</style>\n",
       "<table border=\"1\" class=\"dataframe\">\n",
       "  <thead>\n",
       "    <tr style=\"text-align: right;\">\n",
       "      <th></th>\n",
       "      <th>Alcohol</th>\n",
       "      <th>Malic Acid</th>\n",
       "      <th>Ash</th>\n",
       "      <th>Alcalinity of ash</th>\n",
       "      <th>Magnesium</th>\n",
       "      <th>Total phenols</th>\n",
       "      <th>Flavanoids</th>\n",
       "      <th>Nonflavanoid phenols</th>\n",
       "      <th>Proanthocyanins</th>\n",
       "      <th>Color intensity</th>\n",
       "      <th>Hue</th>\n",
       "      <th>OD280/OD315 of diluted wines</th>\n",
       "      <th>Proline</th>\n",
       "      <th>NewIdentifier</th>\n",
       "    </tr>\n",
       "  </thead>\n",
       "  <tbody>\n",
       "    <tr>\n",
       "      <th>0</th>\n",
       "      <td>14.23</td>\n",
       "      <td>1.71</td>\n",
       "      <td>2.43</td>\n",
       "      <td>15.6</td>\n",
       "      <td>127</td>\n",
       "      <td>2.80</td>\n",
       "      <td>3.06</td>\n",
       "      <td>0.28</td>\n",
       "      <td>2.29</td>\n",
       "      <td>5.64</td>\n",
       "      <td>1.04</td>\n",
       "      <td>3.92</td>\n",
       "      <td>1065</td>\n",
       "      <td>0</td>\n",
       "    </tr>\n",
       "    <tr>\n",
       "      <th>1</th>\n",
       "      <td>13.20</td>\n",
       "      <td>1.78</td>\n",
       "      <td>2.14</td>\n",
       "      <td>11.2</td>\n",
       "      <td>100</td>\n",
       "      <td>2.65</td>\n",
       "      <td>2.76</td>\n",
       "      <td>0.26</td>\n",
       "      <td>1.28</td>\n",
       "      <td>4.38</td>\n",
       "      <td>1.05</td>\n",
       "      <td>3.40</td>\n",
       "      <td>1050</td>\n",
       "      <td>0</td>\n",
       "    </tr>\n",
       "    <tr>\n",
       "      <th>2</th>\n",
       "      <td>13.16</td>\n",
       "      <td>2.36</td>\n",
       "      <td>2.67</td>\n",
       "      <td>18.6</td>\n",
       "      <td>101</td>\n",
       "      <td>2.80</td>\n",
       "      <td>3.24</td>\n",
       "      <td>0.30</td>\n",
       "      <td>2.81</td>\n",
       "      <td>5.68</td>\n",
       "      <td>1.03</td>\n",
       "      <td>3.17</td>\n",
       "      <td>1185</td>\n",
       "      <td>0</td>\n",
       "    </tr>\n",
       "    <tr>\n",
       "      <th>3</th>\n",
       "      <td>14.37</td>\n",
       "      <td>1.95</td>\n",
       "      <td>2.50</td>\n",
       "      <td>16.8</td>\n",
       "      <td>113</td>\n",
       "      <td>3.85</td>\n",
       "      <td>3.49</td>\n",
       "      <td>0.24</td>\n",
       "      <td>2.18</td>\n",
       "      <td>7.80</td>\n",
       "      <td>0.86</td>\n",
       "      <td>3.45</td>\n",
       "      <td>1480</td>\n",
       "      <td>0</td>\n",
       "    </tr>\n",
       "    <tr>\n",
       "      <th>4</th>\n",
       "      <td>13.24</td>\n",
       "      <td>2.59</td>\n",
       "      <td>2.87</td>\n",
       "      <td>21.0</td>\n",
       "      <td>118</td>\n",
       "      <td>2.80</td>\n",
       "      <td>2.69</td>\n",
       "      <td>0.39</td>\n",
       "      <td>1.82</td>\n",
       "      <td>4.32</td>\n",
       "      <td>1.04</td>\n",
       "      <td>2.93</td>\n",
       "      <td>735</td>\n",
       "      <td>0</td>\n",
       "    </tr>\n",
       "    <tr>\n",
       "      <th>...</th>\n",
       "      <td>...</td>\n",
       "      <td>...</td>\n",
       "      <td>...</td>\n",
       "      <td>...</td>\n",
       "      <td>...</td>\n",
       "      <td>...</td>\n",
       "      <td>...</td>\n",
       "      <td>...</td>\n",
       "      <td>...</td>\n",
       "      <td>...</td>\n",
       "      <td>...</td>\n",
       "      <td>...</td>\n",
       "      <td>...</td>\n",
       "      <td>...</td>\n",
       "    </tr>\n",
       "    <tr>\n",
       "      <th>173</th>\n",
       "      <td>13.71</td>\n",
       "      <td>5.65</td>\n",
       "      <td>2.45</td>\n",
       "      <td>20.5</td>\n",
       "      <td>95</td>\n",
       "      <td>1.68</td>\n",
       "      <td>0.61</td>\n",
       "      <td>0.52</td>\n",
       "      <td>1.06</td>\n",
       "      <td>7.70</td>\n",
       "      <td>0.64</td>\n",
       "      <td>1.74</td>\n",
       "      <td>740</td>\n",
       "      <td>2</td>\n",
       "    </tr>\n",
       "    <tr>\n",
       "      <th>174</th>\n",
       "      <td>13.40</td>\n",
       "      <td>3.91</td>\n",
       "      <td>2.48</td>\n",
       "      <td>23.0</td>\n",
       "      <td>102</td>\n",
       "      <td>1.80</td>\n",
       "      <td>0.75</td>\n",
       "      <td>0.43</td>\n",
       "      <td>1.41</td>\n",
       "      <td>7.30</td>\n",
       "      <td>0.70</td>\n",
       "      <td>1.56</td>\n",
       "      <td>750</td>\n",
       "      <td>2</td>\n",
       "    </tr>\n",
       "    <tr>\n",
       "      <th>175</th>\n",
       "      <td>13.27</td>\n",
       "      <td>4.28</td>\n",
       "      <td>2.26</td>\n",
       "      <td>20.0</td>\n",
       "      <td>120</td>\n",
       "      <td>1.59</td>\n",
       "      <td>0.69</td>\n",
       "      <td>0.43</td>\n",
       "      <td>1.35</td>\n",
       "      <td>10.20</td>\n",
       "      <td>0.59</td>\n",
       "      <td>1.56</td>\n",
       "      <td>835</td>\n",
       "      <td>2</td>\n",
       "    </tr>\n",
       "    <tr>\n",
       "      <th>176</th>\n",
       "      <td>13.17</td>\n",
       "      <td>2.59</td>\n",
       "      <td>2.37</td>\n",
       "      <td>20.0</td>\n",
       "      <td>120</td>\n",
       "      <td>1.65</td>\n",
       "      <td>0.68</td>\n",
       "      <td>0.53</td>\n",
       "      <td>1.46</td>\n",
       "      <td>9.30</td>\n",
       "      <td>0.60</td>\n",
       "      <td>1.62</td>\n",
       "      <td>840</td>\n",
       "      <td>2</td>\n",
       "    </tr>\n",
       "    <tr>\n",
       "      <th>177</th>\n",
       "      <td>14.13</td>\n",
       "      <td>4.10</td>\n",
       "      <td>2.74</td>\n",
       "      <td>24.5</td>\n",
       "      <td>96</td>\n",
       "      <td>2.05</td>\n",
       "      <td>0.76</td>\n",
       "      <td>0.56</td>\n",
       "      <td>1.35</td>\n",
       "      <td>9.20</td>\n",
       "      <td>0.61</td>\n",
       "      <td>1.60</td>\n",
       "      <td>560</td>\n",
       "      <td>2</td>\n",
       "    </tr>\n",
       "  </tbody>\n",
       "</table>\n",
       "<p>178 rows × 14 columns</p>\n",
       "</div>"
      ],
      "text/plain": [
       "     Alcohol  Malic Acid   Ash  Alcalinity of ash  Magnesium  Total phenols  \\\n",
       "0      14.23        1.71  2.43               15.6        127           2.80   \n",
       "1      13.20        1.78  2.14               11.2        100           2.65   \n",
       "2      13.16        2.36  2.67               18.6        101           2.80   \n",
       "3      14.37        1.95  2.50               16.8        113           3.85   \n",
       "4      13.24        2.59  2.87               21.0        118           2.80   \n",
       "..       ...         ...   ...                ...        ...            ...   \n",
       "173    13.71        5.65  2.45               20.5         95           1.68   \n",
       "174    13.40        3.91  2.48               23.0        102           1.80   \n",
       "175    13.27        4.28  2.26               20.0        120           1.59   \n",
       "176    13.17        2.59  2.37               20.0        120           1.65   \n",
       "177    14.13        4.10  2.74               24.5         96           2.05   \n",
       "\n",
       "     Flavanoids  Nonflavanoid phenols  Proanthocyanins  Color intensity   Hue  \\\n",
       "0          3.06                  0.28             2.29             5.64  1.04   \n",
       "1          2.76                  0.26             1.28             4.38  1.05   \n",
       "2          3.24                  0.30             2.81             5.68  1.03   \n",
       "3          3.49                  0.24             2.18             7.80  0.86   \n",
       "4          2.69                  0.39             1.82             4.32  1.04   \n",
       "..          ...                   ...              ...              ...   ...   \n",
       "173        0.61                  0.52             1.06             7.70  0.64   \n",
       "174        0.75                  0.43             1.41             7.30  0.70   \n",
       "175        0.69                  0.43             1.35            10.20  0.59   \n",
       "176        0.68                  0.53             1.46             9.30  0.60   \n",
       "177        0.76                  0.56             1.35             9.20  0.61   \n",
       "\n",
       "     OD280/OD315 of diluted wines  Proline  NewIdentifier  \n",
       "0                            3.92     1065              0  \n",
       "1                            3.40     1050              0  \n",
       "2                            3.17     1185              0  \n",
       "3                            3.45     1480              0  \n",
       "4                            2.93      735              0  \n",
       "..                            ...      ...            ...  \n",
       "173                          1.74      740              2  \n",
       "174                          1.56      750              2  \n",
       "175                          1.56      835              2  \n",
       "176                          1.62      840              2  \n",
       "177                          1.60      560              2  \n",
       "\n",
       "[178 rows x 14 columns]"
      ]
     },
     "execution_count": 5,
     "metadata": {},
     "output_type": "execute_result"
    }
   ],
   "source": [
    "# Finalize dataset\n",
    "wine_f = wine.loc[:, wine.columns!='Identifier']\n",
    "wine_f"
   ]
  },
  {
   "cell_type": "markdown",
   "id": "afe83c99",
   "metadata": {},
   "source": [
    "## Visualize potential relations\n",
    "Next we are going to use box plots to quickly analyze how each of the continuos features may relate to the label (Variety)."
   ]
  },
  {
   "cell_type": "code",
   "execution_count": 34,
   "id": "c67153f3",
   "metadata": {
    "scrolled": true
   },
   "outputs": [
    {
     "data": {
      "image/png": "[encoded data removed]",
      "text/plain": [
       "<Figure size 432x432 with 1 Axes>"
      ]
     },
     "metadata": {
      "needs_background": "light"
     },
     "output_type": "display_data"
    },
    {
     "data": {
      "image/png": "[encoded data removed]",
      "text/plain": [
       "<Figure size 432x432 with 1 Axes>"
      ]
     },
     "metadata": {
      "needs_background": "light"
     },
     "output_type": "display_data"
    },
    {
     "data": {
      "image/png": "[encoded data removed]",
      "text/plain": [
       "<Figure size 432x432 with 1 Axes>"
      ]
     },
     "metadata": {
      "needs_background": "light"
     },
     "output_type": "display_data"
    },
    {
     "data": {
      "image/png": "[encoded data removed]",
      "text/plain": [
       "<Figure size 432x432 with 1 Axes>"
      ]
     },
     "metadata": {
      "needs_background": "light"
     },
     "output_type": "display_data"
    },
    {
     "data": {
      "image/png": "[encoded data removed]",
      "text/plain": [
       "<Figure size 432x432 with 1 Axes>"
      ]
     },
     "metadata": {
      "needs_background": "light"
     },
     "output_type": "display_data"
    },
    {
     "data": {
      "image/png": "[encoded data removed]",
      "text/plain": [
       "<Figure size 432x432 with 1 Axes>"
      ]
     },
     "metadata": {
      "needs_background": "light"
     },
     "output_type": "display_data"
    },
    {
     "data": {
      "image/png": "[encoded data removed]",
      "text/plain": [
       "<Figure size 432x432 with 1 Axes>"
      ]
     },
     "metadata": {
      "needs_background": "light"
     },
     "output_type": "display_data"
    },
    {
     "data": {
      "image/png": "[encoded data removed]",
      "text/plain": [
       "<Figure size 432x432 with 1 Axes>"
      ]
     },
     "metadata": {
      "needs_background": "light"
     },
     "output_type": "display_data"
    },
    {
     "data": {
      "image/png": "[encoded data removed]",
      "text/plain": [
       "<Figure size 432x432 with 1 Axes>"
      ]
     },
     "metadata": {
      "needs_background": "light"
     },
     "output_type": "display_data"
    },
    {
     "data": {
      "image/png": "[encoded data removed]",
      "text/plain": [
       "<Figure size 432x432 with 1 Axes>"
      ]
     },
     "metadata": {
      "needs_background": "light"
     },
     "output_type": "display_data"
    },
    {
     "data": {
      "image/png": "[encoded data removed]",
      "text/plain": [
       "<Figure size 432x432 with 1 Axes>"
      ]
     },
     "metadata": {
      "needs_background": "light"
     },
     "output_type": "display_data"
    },
    {
     "data": {
      "image/png": "[encoded data removed]",
      "text/plain": [
       "<Figure size 432x432 with 1 Axes>"
      ]
     },
     "metadata": {
      "needs_background": "light"
     },
     "output_type": "display_data"
    },
    {
     "data": {
      "image/png": "[encoded data removed]",
      "text/plain": [
       "<Figure size 432x432 with 1 Axes>"
      ]
     },
     "metadata": {
      "needs_background": "light"
     },
     "output_type": "display_data"
    }
   ],
   "source": [
    "from matplotlib import pyplot as plt\n",
    "%matplotlib inline\n",
    "\n",
    "wine_features = ['Alcohol','Malic Acid','Ash',\n",
    "                 'Alcalinity of ash', \"Magnesium\",\n",
    "                 'Total phenols', 'Flavanoids', \n",
    "                 'Nonflavanoid phenols', \n",
    "                 'Proanthocyanins', 'Color intensity', \n",
    "                 'Hue', 'OD280/OD315 of diluted wines', 'Proline']\n",
    "wine_label = 'NewIdentifier'\n",
    "for col in wine_features:\n",
    "    wine_f.boxplot(column=col, by=wine_label, figsize=(6,6))\n",
    "    plt.title(col)\n",
    "plt.show()"
   ]
  },
  {
   "cell_type": "markdown",
   "id": "6dcc4f1a",
   "metadata": {},
   "source": [
    "Glancing over the box plots, one can quickly see how there are features that provide distinctions amongst the wine varieties. An example is that Proline appears to be higher on average in Variety A and much lower in Variety B. Similarily, there are some boxplots that may cause our model to make poor decisions due to how close all of the averages are.\n",
    "\n",
    "## Prepare data for modeling\n",
    "In order to model the data and create predictions, we need to create training sets and test sets for the model to train and make predictions with. Once this is complete, we will optimize our model.\n",
    "\n",
    "Since we want to use our features to predict a multiclass label, we will need to build a multiclass classification model."
   ]
  },
  {
   "cell_type": "code",
   "execution_count": 35,
   "id": "8e78937a",
   "metadata": {},
   "outputs": [
    {
     "name": "stdout",
     "output_type": "stream",
     "text": [
      "Training Set: 124, Test Set: 54 \n",
      "\n"
     ]
    }
   ],
   "source": [
    "from sklearn.model_selection import train_test_split\n",
    "\n",
    "# Separate featutes and labels\n",
    "X_wine, y_wine = wine_f[wine_features].values, wine_f[wine_label].values\n",
    "\n",
    "# Create training and testing datasets with a 70%-30% split\n",
    "x_wine_train, x_wine_test, y_wine_train, y_wine_test = train_test_split(X_wine, y_wine, test_size=0.3, random_state=0, stratify=y_wine)\n",
    "\n",
    "print ('Training Set: %d, Test Set: %d \\n' % (x_wine_train.shape[0], x_wine_test.shape[0]))"
   ]
  },
  {
   "cell_type": "markdown",
   "id": "466f61eb",
   "metadata": {},
   "source": [
    "## Train and evaluate the multiclass classifier\n",
    "We have now separated out features and our label into training and testing sets. Let us now train a logistic regression model using using our training set to evaluate how well it can identify the label in the test set."
   ]
  },
  {
   "cell_type": "code",
   "execution_count": 38,
   "id": "4b41532f",
   "metadata": {},
   "outputs": [
    {
     "name": "stdout",
     "output_type": "stream",
     "text": [
      "LogisticRegression(C=10.0, max_iter=10000)\n",
      "Predicted labels:  [0 1 0 0 1 2 1 2 0 2 0 1 2 0 2]\n",
      "Actual labels   :  [0 1 0 0 1 2 1 2 0 2 0 1 2 0 2]\n"
     ]
    }
   ],
   "source": [
    "from sklearn.linear_model import LogisticRegression\n",
    "\n",
    "# Set regularization rate\n",
    "reg = 0.1\n",
    "\n",
    "# train a logistis regression model on the training set\n",
    "multi_model = LogisticRegression(C=1/reg, solver='lbfgs', multi_class='auto', max_iter=10000).fit(x_wine_train, y_wine_train)\n",
    "print (multi_model)\n",
    "\n",
    "# Now we can use the trained model to predict the labels for \n",
    "# the test features, and compare the predicted labels to the actual labels:\n",
    "wine_predictions = multi_model.predict(x_wine_test)\n",
    "print('Predicted labels: ', wine_predictions[:15])\n",
    "print('Actual labels   : ' ,y_wine_test[:15])"
   ]
  },
  {
   "cell_type": "markdown",
   "id": "afe22b29",
   "metadata": {},
   "source": [
    "Incredible! Our model correctly predicted 15/15 of the actual labels.\n",
    "Let's look at a classification report."
   ]
  },
  {
   "cell_type": "code",
   "execution_count": 39,
   "id": "2fb20c58",
   "metadata": {},
   "outputs": [
    {
     "name": "stdout",
     "output_type": "stream",
     "text": [
      "              precision    recall  f1-score   support\n",
      "\n",
      "           0       0.95      1.00      0.97        18\n",
      "           1       1.00      0.90      0.95        21\n",
      "           2       0.94      1.00      0.97        15\n",
      "\n",
      "    accuracy                           0.96        54\n",
      "   macro avg       0.96      0.97      0.96        54\n",
      "weighted avg       0.97      0.96      0.96        54\n",
      "\n"
     ]
    }
   ],
   "source": [
    "from sklearn. metrics import classification_report\n",
    "\n",
    "print(classification_report(y_wine_test, wine_predictions))"
   ]
  },
  {
   "cell_type": "markdown",
   "id": "11d6982a",
   "metadata": {},
   "source": [
    "Since we have multiple classes, let's focus on the overall metrics to get a sense of how well the model performs across all three classes:"
   ]
  },
  {
   "cell_type": "code",
   "execution_count": 40,
   "id": "eb76645c",
   "metadata": {},
   "outputs": [
    {
     "name": "stdout",
     "output_type": "stream",
     "text": [
      "Overall Accuracy: 0.9629629629629629\n",
      "Overall Precision: 0.9616228070175438\n",
      "Overall Recall: 0.9682539682539683\n"
     ]
    }
   ],
   "source": [
    "from sklearn.metrics import accuracy_score, precision_score, recall_score\n",
    "print(\"Overall Accuracy:\",accuracy_score(y_wine_test, wine_predictions))\n",
    "print(\"Overall Precision:\",precision_score(y_wine_test, wine_predictions, average='macro'))\n",
    "print(\"Overall Recall:\",recall_score(y_wine_test, wine_predictions, average='macro'))"
   ]
  },
  {
   "cell_type": "markdown",
   "id": "6aec326f",
   "metadata": {},
   "source": [
    "Our overall accuracy with this model is 96% in terms of determining the correct wine.\n",
    "\n",
    "Let's now look at a confusion matrix to further evaluate our model:"
   ]
  },
  {
   "cell_type": "code",
   "execution_count": 41,
   "id": "dfadda7b",
   "metadata": {},
   "outputs": [
    {
     "name": "stdout",
     "output_type": "stream",
     "text": [
      "[[18  0  0]\n",
      " [ 1 19  1]\n",
      " [ 0  0 15]]\n"
     ]
    }
   ],
   "source": [
    "from sklearn.metrics import confusion_matrix\n",
    "\n",
    "# Print the confusion matrix\n",
    "mcm = confusion_matrix(y_wine_test, wine_predictions)\n",
    "print(mcm)"
   ]
  },
  {
   "cell_type": "markdown",
   "id": "78a4efa4",
   "metadata": {},
   "source": [
    "The confusion matrix shows the intersection of predicted and actual label values for each class - in simple terms, the diagonal intersections from top-left to bottom-right indicate the number of correct predictions.\n",
    "\n",
    "When dealing with multiple classes, it's generally more intuitive to visualize this as a heat map, like this:"
   ]
  },
  {
   "cell_type": "code",
   "execution_count": 42,
   "id": "c2605963",
   "metadata": {},
   "outputs": [
    {
     "data": {
      "image/png": "[encoded data removed]",
      "text/plain": [
       "<Figure size 432x288 with 2 Axes>"
      ]
     },
     "metadata": {
      "needs_background": "light"
     },
     "output_type": "display_data"
    }
   ],
   "source": [
    "import numpy as np\n",
    "import matplotlib.pyplot as plt\n",
    "%matplotlib inline\n",
    "\n",
    "plt.imshow(mcm, interpolation=\"nearest\", cmap=plt.cm.Blues)\n",
    "plt.colorbar()\n",
    "tick_marks = np.arange(len(wine_classes))\n",
    "plt.xticks(tick_marks, wine_classes, rotation=45)\n",
    "plt.yticks(tick_marks, wine_classes)\n",
    "plt.xlabel(\"Predicted Varieties\")\n",
    "plt.ylabel(\"Actual Varieties\")\n",
    "plt.show()"
   ]
  },
  {
   "cell_type": "markdown",
   "id": "b1306505",
   "metadata": {},
   "source": [
    "The darker squares in the confusion matrix plot indicate high numbers of cases, and you can hopefully see a diagonal line of darker squares indicating cases where the predicted and actual label are the same.\n",
    "\n",
    "In the case of a multiclass classification model, a single ROC curve showing true positive rate vs false positive rate is not possible. However, you can use the rates for each class in a One vs Rest (OVR) comparison to create a ROC chart for each class."
   ]
  },
  {
   "cell_type": "code",
   "execution_count": 43,
   "id": "ca4e34c7",
   "metadata": {},
   "outputs": [
    {
     "data": {
      "image/png": "[encoded data removed]",
      "text/plain": [
       "<Figure size 432x288 with 1 Axes>"
      ]
     },
     "metadata": {
      "needs_background": "light"
     },
     "output_type": "display_data"
    }
   ],
   "source": [
    "from sklearn.metrics import roc_curve\n",
    "from sklearn.metrics import roc_auc_score\n",
    "\n",
    "# Get class probability scores\n",
    "wine_prob = multi_model.predict_proba(x_wine_test)\n",
    "\n",
    "# Get ROC metrics for each class\n",
    "fpr = {}\n",
    "tpr = {}\n",
    "thresh ={}\n",
    "for i in range(len(wine_classes)):    \n",
    "    fpr[i], tpr[i], thresh[i] = roc_curve(y_wine_test, wine_prob[:,i], pos_label=i)\n",
    "    \n",
    "# Plot the ROC chart\n",
    "plt.plot(fpr[0], tpr[0], linestyle='--',color='orange', label=wine_classes[0] + ' vs Rest')\n",
    "plt.plot(fpr[1], tpr[1], linestyle='--',color='green', label=wine_classes[1] + ' vs Rest')\n",
    "plt.plot(fpr[2], tpr[2], linestyle='--',color='blue', label=wine_classes[2] + ' vs Rest')\n",
    "plt.title('Multiclass ROC curve')\n",
    "plt.xlabel('False Positive Rate')\n",
    "plt.ylabel('True Positive rate')\n",
    "plt.legend(loc='best')\n",
    "plt.show()"
   ]
  },
  {
   "cell_type": "markdown",
   "id": "f848f9b1",
   "metadata": {},
   "source": [
    "To quantify the ROC performance, you can calculate an aggregate area under the curve score that is averaged across all of the OVR curves."
   ]
  },
  {
   "cell_type": "code",
   "execution_count": 44,
   "id": "ac9ec3b9",
   "metadata": {},
   "outputs": [
    {
     "name": "stdout",
     "output_type": "stream",
     "text": [
      "Average AUC: 0.9995189995189996\n"
     ]
    }
   ],
   "source": [
    "auc = roc_auc_score(y_wine_test,wine_prob, multi_class='ovr')\n",
    "print('Average AUC:', auc)"
   ]
  },
  {
   "cell_type": "markdown",
   "id": "d6a2a2f6",
   "metadata": {},
   "source": [
    "The closer to one, the better your ROC curve.\n",
    "\n",
    "\n",
    "Our initial model has great performance, and when looking at the confusion matrix we can see it has only made 1/27 predictions incorrectly. At this point we can either push for greater performance, or we could test our model on unseen data.\n",
    "\n",
    "Let us push! :)\n"
   ]
  },
  {
   "cell_type": "markdown",
   "id": "2940d2d0",
   "metadata": {},
   "source": [
    "## Preprocess data in a pipeline\n",
    "One can use a pipeline to apply preprocessing steps to the data before fitting it to an algorithm to train a model. Let's see if we can improve the wine predictor by scaling the numeric features in a transformation steps before training. We'll also try a different algorithm (a support vector machine), just to show that we can!"
   ]
  },
  {
   "cell_type": "code",
   "execution_count": 45,
   "id": "be00bb1a",
   "metadata": {},
   "outputs": [
    {
     "name": "stdout",
     "output_type": "stream",
     "text": [
      "Pipeline(steps=[('preprocessor',\n",
      "                 ColumnTransformer(transformers=[('preprocess',\n",
      "                                                  Pipeline(steps=[('scaler',\n",
      "                                                                   StandardScaler())]),\n",
      "                                                  [0, 1, 2, 3, 4, 5, 6, 7, 8, 9,\n",
      "                                                   10, 11, 12])])),\n",
      "                ('regressor', LogisticRegression())])\n"
     ]
    }
   ],
   "source": [
    "from sklearn.preprocessing import StandardScaler\n",
    "from sklearn.compose import ColumnTransformer\n",
    "from sklearn.pipeline import Pipeline\n",
    "from sklearn.svm import SVC\n",
    "\n",
    "# Define preprocessing for numeric columns (scale them)\n",
    "feature_columns = [0,1,2,3,4,5,6,7,8,9,10,11,12]\n",
    "feature_transformer = Pipeline(steps=[\n",
    "    ('scaler', StandardScaler())\n",
    "    ])\n",
    "\n",
    "# Create preprocessing steps\n",
    "preprocessor = ColumnTransformer(\n",
    "    transformers=[\n",
    "        ('preprocess', feature_transformer, feature_columns)])\n",
    "\n",
    "# Create training pipeline\n",
    "pipeline = Pipeline(steps=[('preprocessor', preprocessor),\n",
    "                           ('regressor', LogisticRegression(solver='lbfgs', multi_class='auto'))])\n",
    "\n",
    "\n",
    "# fit the pipeline to train a linear regression model on the training set\n",
    "multi_model = pipeline.fit(x_wine_train, y_wine_train)\n",
    "print (multi_model)"
   ]
  },
  {
   "cell_type": "markdown",
   "id": "725eedc7",
   "metadata": {},
   "source": [
    "Now we can evaluate the new model."
   ]
  },
  {
   "cell_type": "code",
   "execution_count": 46,
   "id": "e24ea5f5",
   "metadata": {},
   "outputs": [
    {
     "name": "stdout",
     "output_type": "stream",
     "text": [
      "Overall Accuracy: 1.0\n",
      "Overall Precision: 1.0\n",
      "Overall Recall: 1.0\n",
      "Average AUC: 1.0\n"
     ]
    },
    {
     "data": {
      "image/png": "[encoded data removed]",
      "text/plain": [
       "<Figure size 432x288 with 2 Axes>"
      ]
     },
     "metadata": {
      "needs_background": "light"
     },
     "output_type": "display_data"
    }
   ],
   "source": [
    "# Get predictions from test data\n",
    "wine_predictions = multi_model.predict(x_wine_test)\n",
    "wine_prob = multi_model.predict_proba(x_wine_test)\n",
    "\n",
    "# Overall metrics\n",
    "print(\"Overall Accuracy:\",accuracy_score(y_wine_test, wine_predictions))\n",
    "print(\"Overall Precision:\",precision_score(y_wine_test, wine_predictions, average='macro'))\n",
    "print(\"Overall Recall:\",recall_score(y_wine_test, wine_predictions, average='macro'))\n",
    "print('Average AUC:', roc_auc_score(y_wine_test,wine_prob, multi_class='ovr'))\n",
    "\n",
    "# Confusion matrix\n",
    "plt.imshow(mcm, interpolation=\"nearest\", cmap=plt.cm.Blues)\n",
    "plt.colorbar()\n",
    "tick_marks = np.arange(len(wine_classes))\n",
    "plt.xticks(tick_marks, wine_classes, rotation=45)\n",
    "plt.yticks(tick_marks, wine_classes)\n",
    "plt.xlabel(\"Predicted Variety\")\n",
    "plt.ylabel(\"Actual Variety\")\n",
    "plt.show()"
   ]
  },
  {
   "cell_type": "markdown",
   "id": "d6263e37",
   "metadata": {},
   "source": [
    "### Use the model with new data observations\n",
    "\n",
    "Now let's save our trained model so we can use it again later."
   ]
  },
  {
   "cell_type": "code",
   "execution_count": 47,
   "id": "d2c95ce1",
   "metadata": {},
   "outputs": [
    {
     "data": {
      "text/plain": [
       "['./wine_model.pkl']"
      ]
     },
     "execution_count": 47,
     "metadata": {},
     "output_type": "execute_result"
    }
   ],
   "source": [
    "import joblib\n",
    "\n",
    "# Save the model as a pickle file\n",
    "filename = './wine_model.pkl'\n",
    "joblib.dump(multi_model, filename)"
   ]
  },
  {
   "cell_type": "markdown",
   "id": "5bc759e0",
   "metadata": {},
   "source": [
    "OK, so now we have a trained model. Let's use it to predict the class of a new wine observation:"
   ]
  },
  {
   "cell_type": "code",
   "execution_count": 48,
   "id": "bdd40f1d",
   "metadata": {},
   "outputs": [
    {
     "name": "stdout",
     "output_type": "stream",
     "text": [
      "0 (Variety A)\n",
      "1 (Variety B)\n"
     ]
    }
   ],
   "source": [
    "# Load the model from the file\n",
    "multi_model = joblib.load(filename)\n",
    "\n",
    "# The model accepts an array of feature arrays (so you can predict the classes of multiple wine observations in a single call)\n",
    "# We'll create an array with a two arrays of features, representing two wine observations\n",
    "x_new = np.array([[13.72,1.43,2.5,16.7,108,3.4,3.67,0.19,2.04,6.8,0.89,2.87,1285],\n",
    "                  [12.37,0.94,1.36,10.6,88,1.98,0.57,0.28,0.42,1.95,1.05,1.82,520]])\n",
    "\n",
    "\n",
    "# Call the web service, passing the input data\n",
    "predictions = multi_model.predict(x_new)\n",
    "\n",
    "# Get the predicted classes.\n",
    "for prediction in predictions:\n",
    "    print(prediction, '(' + wine_classes[prediction] +')')"
   ]
  },
  {
   "cell_type": "markdown",
   "id": "84e6b982",
   "metadata": {},
   "source": [
    "**Future note: A and B are actual answers for two arrays.**"
   ]
  },
  {
   "cell_type": "code",
   "execution_count": null,
   "id": "46cf3d68",
   "metadata": {},
   "outputs": [],
   "source": []
  }
 ],
 "metadata": {
  "kernelspec": {
   "display_name": "Python 3 (ipykernel)",
   "language": "python",
   "name": "python3"
  },
  "language_info": {
   "codemirror_mode": {
    "name": "ipython",
    "version": 3
   },
   "file_extension": ".py",
   "mimetype": "text/x-python",
   "name": "python",
   "nbconvert_exporter": "python",
   "pygments_lexer": "ipython3",
   "version": "3.9.12"
  }
 },
 "nbformat": 4,
 "nbformat_minor": 5
}
